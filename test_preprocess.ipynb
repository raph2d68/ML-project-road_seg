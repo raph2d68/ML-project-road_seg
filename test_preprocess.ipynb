{
 "metadata": {
  "language_info": {
   "codemirror_mode": {
    "name": "ipython",
    "version": 3
   },
   "file_extension": ".py",
   "mimetype": "text/x-python",
   "name": "python",
   "nbconvert_exporter": "python",
   "pygments_lexer": "ipython3",
   "version": "3.7.9-final"
  },
  "orig_nbformat": 2,
  "kernelspec": {
   "name": "python3",
   "display_name": "Python 3.7.9 64-bit ('myenvname': conda)",
   "metadata": {
    "interpreter": {
     "hash": "57b0fb113d8d73a71b443cf4151951805bdf998f0e4738da1c9408ca668764e1"
    }
   }
  }
 },
 "nbformat": 4,
 "nbformat_minor": 2,
 "cells": [
  {
   "cell_type": "code",
   "execution_count": 1,
   "metadata": {},
   "outputs": [],
   "source": [
    "import tensorflow as tf\n",
    "tf.enable_eager_execution()"
   ]
  },
  {
   "cell_type": "code",
   "execution_count": 2,
   "metadata": {},
   "outputs": [],
   "source": [
    "from parameters import *\n",
    "#from helper import *\n",
    "#from model import model\n",
    "\n",
    "import cv2\n",
    "\n",
    "import imageio\n",
    "import matplotlib.image as mpimg\n",
    "import matplotlib.pyplot as plt\n",
    "\n",
    "import numpy as np\n",
    "#import tensorflow_addons as tfa\n",
    "from scipy import ndimage, misc\n",
    "\n",
    "#tf.enable_eager_execution()"
   ]
  },
  {
   "cell_type": "code",
   "execution_count": 3,
   "metadata": {},
   "outputs": [],
   "source": [
    "def save_tf_image(path,image_array) :\n",
    "    return tf.keras.preprocessing.image.save_img(path,image_array)\n",
    "\n",
    "\n",
    "def visualize(original, augmented):\n",
    "  fig = plt.figure()\n",
    "  plt.subplot(1,2,1)\n",
    "  plt.title('Original image')\n",
    "  plt.imshow(original)\n",
    "\n",
    "  plt.subplot(1,2,2)\n",
    "  plt.title('Augmented image')\n",
    "  plt.imshow(augmented)\n",
    "\n",
    "def load_image(infilename):\n",
    "    data = mpimg.imread(infilename)\n",
    "    return data\n",
    "\n",
    "def extract_data(filename, num_images):\n",
    "    \"\"\"Extract the images into a 4D tensor [image index, y, x, channels].\n",
    "    Values are rescaled from [0, 255] down to [-0.5, 0.5].\n",
    "    \"\"\"\n",
    "    imgs = []\n",
    "    for i in range(1, num_images+1):\n",
    "        imageid = \"satImage_%.3d\" % i\n",
    "        image_filename = filename + imageid + \".png\"\n",
    "        if load_image(image_filename):\n",
    "            print('Loading ' + image_filename)\n",
    "            img = mpimg.imread(image_filename)\n",
    "            imgs.append(img)\n",
    "        else:\n",
    "            print('File ' + image_filename + ' does not exist')\n",
    "\n",
    "    num_images = len(imgs)\n",
    "    IMG_WIDTH = imgs[0].shape[0]\n",
    "    IMG_HEIGHT = imgs[0].shape[1]\n",
    "    N_PATCHES_PER_IMAGE = (IMG_WIDTH/IMG_PATCH_SIZE)*(IMG_HEIGHT/IMG_PATCH_SIZE)\n",
    "\n",
    "    img_patches = [img_crop(imgs[i], IMG_PATCH_SIZE, IMG_PATCH_SIZE) for i in range(num_images)]\n",
    "    data = [img_patches[i][j] for i in range(len(img_patches)) for j in range(len(img_patches[i]))]\n",
    "\n",
    "    return np.asarray(data)\n",
    "\n",
    "# Extract label images\n",
    "def extract_labels(filename, num_images):\n",
    "    \"\"\"Extract the labels into a 1-hot matrix [image index, label index].\"\"\"\n",
    "    gt_imgs = []\n",
    "    for i in range(1, num_images + 1):\n",
    "        imageid = \"satImage_%.3d\" % i\n",
    "        image_filename = filename + imageid + \".png\"\n",
    "        if os.path.isfile(image_filename):\n",
    "            print('Loading ' + image_filename)\n",
    "            img = mpimg.imread(image_filename)\n",
    "            gt_imgs.append(img)\n",
    "        else:\n",
    "            print('File ' + image_filename + ' does not exist')\n",
    "\n",
    "    num_images = len(gt_imgs)\n",
    "    gt_patches = [img_crop(gt_imgs[i], IMG_PATCH_SIZE, IMG_PATCH_SIZE) for i in range(num_images)]\n",
    "    data = np.asarray([gt_patches[i][j] for i in range(len(gt_patches)) for j in range(len(gt_patches[i]))])\n",
    "    labels = np.asarray([value_to_class(np.mean(data[i])) for i in range(len(data))])\n",
    "\n",
    "    # Convert to dense 1-hot representation.\n",
    "    return labels.astype(np.float32)\n",
    "\n",
    "def img_crop(im, w, h):\n",
    "    list_patches = []\n",
    "    imgwidth = im.shape[0]\n",
    "    imgheight = im.shape[1]\n",
    "    is_2d = len(im.shape) < 3\n",
    "    for i in range(0, imgheight, h):\n",
    "        for j in range(0, imgwidth, w):\n",
    "            if is_2d:\n",
    "                im_patch = im[j:j+w, i:i+h]\n",
    "            else:\n",
    "                im_patch = im[j:j+w, i:i+h, :]\n",
    "            list_patches.append(im_patch)\n",
    "    return list_patches\n",
    "\n",
    "\n",
    "    # Assign a label to a patch v\n",
    "def value_to_class(v):\n",
    "    foreground_threshold = 0.25  # percentage of pixels > 1 required to assign a foreground label to a patch\n",
    "    df = np.sum(v)\n",
    "    if df > foreground_threshold:  # road\n",
    "        return [0, 1]\n",
    "    else:  # bgrd\n",
    "        return [1, 0]\n",
    "\n",
    "    \n",
    "    #1-hot = que des zeros sauf un 1\n"
   ]
  },
  {
   "cell_type": "code",
   "execution_count": 5,
   "metadata": {},
   "outputs": [
    {
     "output_type": "stream",
     "name": "stdout",
     "text": [
      "['satImage_052.png', 'satImage_046.png', 'satImage_091.png', 'satImage_085.png', 'satImage_084.png', 'satImage_090.png', 'satImage_047.png', 'satImage_053.png', 'satImage_045.png', 'satImage_051.png', 'satImage_079.png', 'satImage_086.png', 'satImage_092.png', 'satImage_093.png', 'satImage_087.png', 'satImage_078.png', 'satImage_050.png', 'satImage_044.png', 'satImage_068.png', 'satImage_040.png', 'satImage_054.png', 'satImage_083.png', 'satImage_097.png', 'satImage_096.png', 'satImage_082.png', 'satImage_055.png', 'satImage_041.png', 'satImage_069.png', 'satImage_057.png', 'satImage_043.png', 'satImage_094.png', 'satImage_080.png', 'satImage_081.png', 'satImage_095.png', 'satImage_042.png', 'satImage_056.png', 'satImage_031.png', 'satImage_025.png', 'satImage_019.png', 'satImage_018.png', 'satImage_024.png', 'satImage_030.png', 'satImage_026.png', 'satImage_032.png', 'satImage_033.png', 'satImage_027.png', 'satImage_023.png', 'satImage_037.png', 'satImage_036.png', 'satImage_022.png', 'satImage_008.png', 'satImage_034.png', 'satImage_020.png', 'satImage_021.png', 'satImage_035.png', 'satImage_009.png', 'satImage_010.png', 'satImage_004.png', 'satImage_038.png', 'satImage_039.png', 'satImage_005.png', 'satImage_011.png', 'satImage_007.png', 'satImage_013.png', 'satImage_012.png', 'satImage_006.png', 'satImage_002.png', 'satImage_016.png', 'satImage_017.png', 'satImage_003.png', 'satImage_029.png', 'satImage_015.png', 'satImage_001.png', 'satImage_014.png', 'satImage_028.png', 'satImage_073.png', 'satImage_067.png', 'satImage_098.png', 'satImage_099.png', 'satImage_066.png', 'satImage_072.png', 'satImage_064.png', 'satImage_070.png', 'satImage_058.png', 'satImage_059.png', 'satImage_071.png', 'satImage_065.png', 'satImage_049.png', 'satImage_061.png', 'satImage_075.png', 'satImage_074.png', 'satImage_060.png', 'satImage_048.png', 'satImage_100.png', 'satImage_076.png', 'satImage_062.png', 'satImage_089.png', 'satImage_088.png', 'satImage_063.png', 'satImage_077.png']\n['satImage_052.png', 'satImage_046.png', 'satImage_091.png', 'satImage_085.png', 'satImage_084.png', 'satImage_090.png', 'satImage_047.png', 'satImage_053.png', 'satImage_045.png', 'satImage_051.png', 'satImage_079.png', 'satImage_086.png', 'satImage_092.png', 'satImage_093.png', 'satImage_087.png', 'satImage_078.png', 'satImage_050.png', 'satImage_044.png', 'satImage_068.png', 'satImage_040.png', 'satImage_054.png', 'satImage_083.png', 'satImage_097.png', 'satImage_096.png', 'satImage_082.png', 'satImage_055.png', 'satImage_041.png', 'satImage_069.png', 'satImage_057.png', 'satImage_043.png', 'satImage_094.png', 'satImage_080.png', 'satImage_081.png', 'satImage_095.png', 'satImage_042.png', 'satImage_056.png', 'satImage_031.png', 'satImage_025.png', 'satImage_019.png', 'satImage_018.png', 'satImage_024.png', 'satImage_030.png', 'satImage_026.png', 'satImage_032.png', 'satImage_033.png', 'satImage_027.png', 'satImage_023.png', 'satImage_037.png', 'satImage_036.png', 'satImage_022.png', 'satImage_008.png', 'satImage_034.png', 'satImage_020.png', 'satImage_021.png', 'satImage_035.png', 'satImage_009.png', 'satImage_010.png', 'satImage_004.png', 'satImage_038.png', 'satImage_039.png', 'satImage_005.png', 'satImage_011.png', 'satImage_007.png', 'satImage_013.png', 'satImage_012.png', 'satImage_006.png', 'satImage_002.png', 'satImage_016.png', 'satImage_017.png', 'satImage_003.png', 'satImage_029.png', 'satImage_015.png', 'satImage_001.png', 'satImage_014.png', 'satImage_028.png', 'satImage_073.png', 'satImage_067.png', 'satImage_098.png', 'satImage_099.png', 'satImage_066.png', 'satImage_072.png', 'satImage_064.png', 'satImage_070.png', 'satImage_058.png', 'satImage_059.png', 'satImage_071.png', 'satImage_065.png', 'satImage_049.png', 'satImage_061.png', 'satImage_075.png', 'satImage_074.png', 'satImage_060.png', 'satImage_048.png', 'satImage_100.png', 'satImage_076.png', 'satImage_062.png', 'satImage_089.png', 'satImage_088.png', 'satImage_063.png', 'satImage_077.png']\n"
     ]
    }
   ],
   "source": [
    "TRAINING_SIZE = 10\n",
    "data_dir = data_dir = 'ressource_files/test_folder/training/'\n",
    "image_dir = data_dir + 'images/'\n",
    "groundt_dir = data_dir + 'groundtruth/'\n",
    "print(os.listdir(image_dir)) #return list of files of a directory\n",
    "print(os.listdir(image_dir)) #return list of files of a directory\n"
   ]
  },
  {
   "cell_type": "code",
   "execution_count": 10,
   "metadata": {},
   "outputs": [
    {
     "output_type": "stream",
     "name": "stdout",
     "text": [
      "['satImage_052.png', 'satImage_046.png', 'satImage_091.png', 'satImage_085.png', 'satImage_084.png', 'satImage_090.png', 'satImage_047.png', 'satImage_053.png', 'satImage_007horflip.png', 'satImage_045.png', 'satImage_051.png', 'satImage_079.png', 'satImage_086.png', 'satImage_092.png', 'satImage_006rot180.png', 'satImage_093.png', 'satImage_087.png', 'satImage_078.png', 'satImage_050.png', 'satImage_004vertflip.png', 'satImage_044.png', 'satImage_002rot270.png', 'satImage_068.png', 'satImage_040.png', 'satImage_054.png', 'satImage_009rot270.png', 'satImage_083.png', 'satImage_097.png', 'satImage_001rot90.png', 'satImage_096.png', 'satImage_082.png', 'satImage_055.png', 'satImage_041.png', 'satImage_069.png', 'satImage_001vertflip.png', 'satImage_010rot270.png', 'satImage_057.png', 'satImage_004rot270.png', 'satImage_043.png', 'satImage_094.png', 'satImage_080.png', 'satImage_002horflip.png', 'satImage_081.png', 'satImage_095.png', 'satImage_042.png', 'satImage_056.png', 'satImage_008vertflip.png', 'satImage_031.png', 'satImage_025.png', 'satImage_005horflip.png', 'satImage_019.png', 'satImage_007rot90.png', 'satImage_006rot90.png', 'satImage_018.png', 'satImage_024.png', 'satImage_030.png', 'satImage_002vertflip.png', 'satImage_008horflip.png', 'satImage_007rot180.png', 'satImage_026.png', 'satImage_032.png', 'satImage_003rot270.png', 'satImage_033.png', 'satImage_027.png', 'satImage_008rot270.png', 'satImage_010rot90.png', 'satImage_023.png', 'satImage_037.png', 'satImage_007vertflip.png', 'satImage_036.png', 'satImage_022.png', 'satImage_005rot270.png', 'satImage_008.png', 'satImage_034.png', 'satImage_020.png', 'satImage_001rot180.png', 'satImage_021.png', 'satImage_035.png', 'satImage_009.png', 'satImage_009rot90.png', 'satImage_008rot90.png', 'satImage_010.png', 'satImage_004.png', 'satImage_009vertflip.png', 'satImage_038.png', 'satImage_039.png', 'satImage_005.png', 'satImage_011.png', 'satImage_009rot180.png', 'satImage_007.png', 'satImage_013.png', 'satImage_003rot90.png', 'satImage_002rot90.png', 'satImage_010rot180.png', 'satImage_012.png', 'satImage_006.png', 'satImage_003horflip.png', 'satImage_004rot180.png', 'satImage_005vertflip.png', 'satImage_002.png', 'satImage_016.png', 'satImage_006horflip.png', 'satImage_017.png', 'satImage_003.png', 'satImage_029.png', 'satImage_002rot180.png', 'satImage_015.png', 'satImage_001.png', 'satImage_014.png', 'satImage_028.png', 'satImage_010vertflip.png', 'satImage_006rot270.png', 'satImage_073.png', 'satImage_067.png', 'satImage_098.png', 'satImage_099.png', 'satImage_010horflip.png', 'satImage_066.png', 'satImage_008rot180.png', 'satImage_072.png', 'satImage_001rot270.png', 'satImage_064.png', 'satImage_070.png', 'satImage_058.png', 'satImage_001horflip.png', 'satImage_005rot180.png', 'satImage_059.png', 'satImage_071.png', 'satImage_065.png', 'satImage_006vertflip.png', 'satImage_004horflip.png', 'satImage_049.png', 'satImage_061.png', 'satImage_075.png', 'satImage_003vertflip.png', 'satImage_074.png', 'satImage_060.png', 'satImage_048.png', 'satImage_100.png', 'satImage_003rot180.png', 'satImage_076.png', 'satImage_004rot90.png', 'satImage_005rot90.png', 'satImage_062.png', 'satImage_089.png', 'satImage_009horflip.png', 'satImage_007rot270.png', 'satImage_088.png', 'satImage_063.png', 'satImage_077.png']\n"
     ]
    },
    {
     "output_type": "error",
     "ename": "FileNotFoundError",
     "evalue": "[Errno 2] No such file or directory: 'ressource_files/test_folder/training/groundtruth/satImage_007horflip.png'",
     "traceback": [
      "\u001b[0;31m---------------------------------------------------------------------------\u001b[0m",
      "\u001b[0;31mFileNotFoundError\u001b[0m                         Traceback (most recent call last)",
      "\u001b[0;32m<ipython-input-10-1100fa60a20e>\u001b[0m in \u001b[0;36m<module>\u001b[0;34m\u001b[0m\n\u001b[1;32m      7\u001b[0m \u001b[0mprint\u001b[0m\u001b[0;34m(\u001b[0m\u001b[0mfiles\u001b[0m\u001b[0;34m)\u001b[0m\u001b[0;34m\u001b[0m\u001b[0;34m\u001b[0m\u001b[0m\n\u001b[1;32m      8\u001b[0m \u001b[0mimages_list\u001b[0m \u001b[0;34m=\u001b[0m \u001b[0;34m[\u001b[0m\u001b[0mload_image\u001b[0m\u001b[0;34m(\u001b[0m\u001b[0mimage_dir\u001b[0m \u001b[0;34m+\u001b[0m \u001b[0mfiles\u001b[0m\u001b[0;34m[\u001b[0m\u001b[0mi\u001b[0m\u001b[0;34m]\u001b[0m\u001b[0;34m)\u001b[0m \u001b[0;32mfor\u001b[0m \u001b[0mi\u001b[0m \u001b[0;32min\u001b[0m \u001b[0mrange\u001b[0m\u001b[0;34m(\u001b[0m\u001b[0mTRAINING_SIZE\u001b[0m\u001b[0;34m)\u001b[0m\u001b[0;34m]\u001b[0m \u001b[0;31m# create list of the names of the images\u001b[0m\u001b[0;34m\u001b[0m\u001b[0;34m\u001b[0m\u001b[0m\n\u001b[0;32m----> 9\u001b[0;31m \u001b[0mgroundt_list\u001b[0m \u001b[0;34m=\u001b[0m \u001b[0;34m[\u001b[0m\u001b[0mload_image\u001b[0m\u001b[0;34m(\u001b[0m\u001b[0mgroundt_dir\u001b[0m \u001b[0;34m+\u001b[0m \u001b[0mfiles\u001b[0m\u001b[0;34m[\u001b[0m\u001b[0mi\u001b[0m\u001b[0;34m]\u001b[0m\u001b[0;34m)\u001b[0m \u001b[0;32mfor\u001b[0m \u001b[0mi\u001b[0m \u001b[0;32min\u001b[0m \u001b[0mrange\u001b[0m\u001b[0;34m(\u001b[0m\u001b[0mTRAINING_SIZE\u001b[0m\u001b[0;34m)\u001b[0m\u001b[0;34m]\u001b[0m   \u001b[0;31m# create list of the names of the groundtruth (images and groundtruth names are the same)\u001b[0m\u001b[0;34m\u001b[0m\u001b[0;34m\u001b[0m\u001b[0m\n\u001b[0m\u001b[1;32m     10\u001b[0m \u001b[0;34m\u001b[0m\u001b[0m\n\u001b[1;32m     11\u001b[0m \u001b[0mnum_aug\u001b[0m \u001b[0;34m=\u001b[0m \u001b[0mTRAINING_SIZE\u001b[0m \u001b[0;34m+\u001b[0m \u001b[0;36m1\u001b[0m\u001b[0;34m\u001b[0m\u001b[0;34m\u001b[0m\u001b[0m\n",
      "\u001b[0;32m<ipython-input-10-1100fa60a20e>\u001b[0m in \u001b[0;36m<listcomp>\u001b[0;34m(.0)\u001b[0m\n\u001b[1;32m      7\u001b[0m \u001b[0mprint\u001b[0m\u001b[0;34m(\u001b[0m\u001b[0mfiles\u001b[0m\u001b[0;34m)\u001b[0m\u001b[0;34m\u001b[0m\u001b[0;34m\u001b[0m\u001b[0m\n\u001b[1;32m      8\u001b[0m \u001b[0mimages_list\u001b[0m \u001b[0;34m=\u001b[0m \u001b[0;34m[\u001b[0m\u001b[0mload_image\u001b[0m\u001b[0;34m(\u001b[0m\u001b[0mimage_dir\u001b[0m \u001b[0;34m+\u001b[0m \u001b[0mfiles\u001b[0m\u001b[0;34m[\u001b[0m\u001b[0mi\u001b[0m\u001b[0;34m]\u001b[0m\u001b[0;34m)\u001b[0m \u001b[0;32mfor\u001b[0m \u001b[0mi\u001b[0m \u001b[0;32min\u001b[0m \u001b[0mrange\u001b[0m\u001b[0;34m(\u001b[0m\u001b[0mTRAINING_SIZE\u001b[0m\u001b[0;34m)\u001b[0m\u001b[0;34m]\u001b[0m \u001b[0;31m# create list of the names of the images\u001b[0m\u001b[0;34m\u001b[0m\u001b[0;34m\u001b[0m\u001b[0m\n\u001b[0;32m----> 9\u001b[0;31m \u001b[0mgroundt_list\u001b[0m \u001b[0;34m=\u001b[0m \u001b[0;34m[\u001b[0m\u001b[0mload_image\u001b[0m\u001b[0;34m(\u001b[0m\u001b[0mgroundt_dir\u001b[0m \u001b[0;34m+\u001b[0m \u001b[0mfiles\u001b[0m\u001b[0;34m[\u001b[0m\u001b[0mi\u001b[0m\u001b[0;34m]\u001b[0m\u001b[0;34m)\u001b[0m \u001b[0;32mfor\u001b[0m \u001b[0mi\u001b[0m \u001b[0;32min\u001b[0m \u001b[0mrange\u001b[0m\u001b[0;34m(\u001b[0m\u001b[0mTRAINING_SIZE\u001b[0m\u001b[0;34m)\u001b[0m\u001b[0;34m]\u001b[0m   \u001b[0;31m# create list of the names of the groundtruth (images and groundtruth names are the same)\u001b[0m\u001b[0;34m\u001b[0m\u001b[0;34m\u001b[0m\u001b[0m\n\u001b[0m\u001b[1;32m     10\u001b[0m \u001b[0;34m\u001b[0m\u001b[0m\n\u001b[1;32m     11\u001b[0m \u001b[0mnum_aug\u001b[0m \u001b[0;34m=\u001b[0m \u001b[0mTRAINING_SIZE\u001b[0m \u001b[0;34m+\u001b[0m \u001b[0;36m1\u001b[0m\u001b[0;34m\u001b[0m\u001b[0;34m\u001b[0m\u001b[0m\n",
      "\u001b[0;32m<ipython-input-3-0f33f38fc3e2>\u001b[0m in \u001b[0;36mload_image\u001b[0;34m(infilename)\u001b[0m\n\u001b[1;32m     14\u001b[0m \u001b[0;34m\u001b[0m\u001b[0m\n\u001b[1;32m     15\u001b[0m \u001b[0;32mdef\u001b[0m \u001b[0mload_image\u001b[0m\u001b[0;34m(\u001b[0m\u001b[0minfilename\u001b[0m\u001b[0;34m)\u001b[0m\u001b[0;34m:\u001b[0m\u001b[0;34m\u001b[0m\u001b[0;34m\u001b[0m\u001b[0m\n\u001b[0;32m---> 16\u001b[0;31m     \u001b[0mdata\u001b[0m \u001b[0;34m=\u001b[0m \u001b[0mmpimg\u001b[0m\u001b[0;34m.\u001b[0m\u001b[0mimread\u001b[0m\u001b[0;34m(\u001b[0m\u001b[0minfilename\u001b[0m\u001b[0;34m)\u001b[0m\u001b[0;34m\u001b[0m\u001b[0;34m\u001b[0m\u001b[0m\n\u001b[0m\u001b[1;32m     17\u001b[0m     \u001b[0;32mreturn\u001b[0m \u001b[0mdata\u001b[0m\u001b[0;34m\u001b[0m\u001b[0;34m\u001b[0m\u001b[0m\n\u001b[1;32m     18\u001b[0m \u001b[0;34m\u001b[0m\u001b[0m\n",
      "\u001b[0;32m~/opt/anaconda3/envs/myenvname/lib/python3.7/site-packages/matplotlib/image.py\u001b[0m in \u001b[0;36mimread\u001b[0;34m(fname, format)\u001b[0m\n\u001b[1;32m   1494\u001b[0m                     \u001b[0mresponse\u001b[0m \u001b[0;34m=\u001b[0m \u001b[0mio\u001b[0m\u001b[0;34m.\u001b[0m\u001b[0mBytesIO\u001b[0m\u001b[0;34m(\u001b[0m\u001b[0mresponse\u001b[0m\u001b[0;34m.\u001b[0m\u001b[0mread\u001b[0m\u001b[0;34m(\u001b[0m\u001b[0;34m)\u001b[0m\u001b[0;34m)\u001b[0m\u001b[0;34m\u001b[0m\u001b[0;34m\u001b[0m\u001b[0m\n\u001b[1;32m   1495\u001b[0m                 \u001b[0;32mreturn\u001b[0m \u001b[0mimread\u001b[0m\u001b[0;34m(\u001b[0m\u001b[0mresponse\u001b[0m\u001b[0;34m,\u001b[0m \u001b[0mformat\u001b[0m\u001b[0;34m=\u001b[0m\u001b[0mext\u001b[0m\u001b[0;34m)\u001b[0m\u001b[0;34m\u001b[0m\u001b[0;34m\u001b[0m\u001b[0m\n\u001b[0;32m-> 1496\u001b[0;31m     \u001b[0;32mwith\u001b[0m \u001b[0mimg_open\u001b[0m\u001b[0;34m(\u001b[0m\u001b[0mfname\u001b[0m\u001b[0;34m)\u001b[0m \u001b[0;32mas\u001b[0m \u001b[0mimage\u001b[0m\u001b[0;34m:\u001b[0m\u001b[0;34m\u001b[0m\u001b[0;34m\u001b[0m\u001b[0m\n\u001b[0m\u001b[1;32m   1497\u001b[0m         return (_pil_png_to_float_array(image)\n\u001b[1;32m   1498\u001b[0m                 \u001b[0;32mif\u001b[0m \u001b[0misinstance\u001b[0m\u001b[0;34m(\u001b[0m\u001b[0mimage\u001b[0m\u001b[0;34m,\u001b[0m \u001b[0mPIL\u001b[0m\u001b[0;34m.\u001b[0m\u001b[0mPngImagePlugin\u001b[0m\u001b[0;34m.\u001b[0m\u001b[0mPngImageFile\u001b[0m\u001b[0;34m)\u001b[0m \u001b[0;32melse\u001b[0m\u001b[0;34m\u001b[0m\u001b[0;34m\u001b[0m\u001b[0m\n",
      "\u001b[0;32m~/opt/anaconda3/envs/myenvname/lib/python3.7/site-packages/PIL/ImageFile.py\u001b[0m in \u001b[0;36m__init__\u001b[0;34m(self, fp, filename)\u001b[0m\n\u001b[1;32m    107\u001b[0m         \u001b[0;32mif\u001b[0m \u001b[0misPath\u001b[0m\u001b[0;34m(\u001b[0m\u001b[0mfp\u001b[0m\u001b[0;34m)\u001b[0m\u001b[0;34m:\u001b[0m\u001b[0;34m\u001b[0m\u001b[0;34m\u001b[0m\u001b[0m\n\u001b[1;32m    108\u001b[0m             \u001b[0;31m# filename\u001b[0m\u001b[0;34m\u001b[0m\u001b[0;34m\u001b[0m\u001b[0;34m\u001b[0m\u001b[0m\n\u001b[0;32m--> 109\u001b[0;31m             \u001b[0mself\u001b[0m\u001b[0;34m.\u001b[0m\u001b[0mfp\u001b[0m \u001b[0;34m=\u001b[0m \u001b[0mopen\u001b[0m\u001b[0;34m(\u001b[0m\u001b[0mfp\u001b[0m\u001b[0;34m,\u001b[0m \u001b[0;34m\"rb\"\u001b[0m\u001b[0;34m)\u001b[0m\u001b[0;34m\u001b[0m\u001b[0;34m\u001b[0m\u001b[0m\n\u001b[0m\u001b[1;32m    110\u001b[0m             \u001b[0mself\u001b[0m\u001b[0;34m.\u001b[0m\u001b[0mfilename\u001b[0m \u001b[0;34m=\u001b[0m \u001b[0mfp\u001b[0m\u001b[0;34m\u001b[0m\u001b[0;34m\u001b[0m\u001b[0m\n\u001b[1;32m    111\u001b[0m             \u001b[0mself\u001b[0m\u001b[0;34m.\u001b[0m\u001b[0m_exclusive_fp\u001b[0m \u001b[0;34m=\u001b[0m \u001b[0;32mTrue\u001b[0m\u001b[0;34m\u001b[0m\u001b[0;34m\u001b[0m\u001b[0m\n",
      "\u001b[0;31mFileNotFoundError\u001b[0m: [Errno 2] No such file or directory: 'ressource_files/test_folder/training/groundtruth/satImage_007horflip.png'"
     ]
    }
   ],
   "source": [
    "TRAINING_SIZE = 10\n",
    "data_dir = 'ressource_files/test_folder/training/'\n",
    "image_dir = data_dir + 'images/'\n",
    "groundt_dir = data_dir + 'groundtruth/'\n",
    "\n",
    "data_dir = tf.keras.utils.get_file(origin=dataset_url, fname='flower_photos', untar=True)\n",
    "\n",
    "\n",
    "files = os.listdir(image_dir) #return rdm list of files of a directory\n",
    "print(files)\n",
    "images_list = [load_image(image_dir + files[i]) for i in range(TRAINING_SIZE)] # create list of the names of the images \n",
    "groundt_list = [load_image(groundt_dir + files[i]) for i in range(TRAINING_SIZE)]   # create list of the names of the groundtruth (images and groundtruth names are the same)\n",
    "\n",
    "num_aug = TRAINING_SIZE + 1 \n",
    "\n",
    "\n",
    "for i in range(TRAINING_SIZE) :\n",
    "    j = i+1\n",
    "\n",
    "    # load images\n",
    "    img = images_list[i]\n",
    "    groundt = groundt_list[i]\n",
    "    groundt = np.expand_dims(groundt, axis=2)\n",
    "\n",
    "    #rot90\n",
    "    rot90_i = tf.image.rot90(img)\n",
    "    rot90_gt = tf.image.rot90(groundt)\n",
    "    save_tf_image(image_dir + 'satImage_' + str(j).zfill(3) + 'rot90.png', rot90_i)\n",
    "    save_tf_image(groundt_dir + 'satImage_' + str(j).zfill(3) + '.png', rot90_gt)\n",
    "    num_aug+=1\n",
    "\n",
    "    #rot180\n",
    "    rot180_i = tf.image.rot90(rot90_i)\n",
    "    rot180_gt = tf.image.rot90(rot90_gt)\n",
    "    save_tf_image(image_dir + 'satImage_' + str(j).zfill(3) + 'rot180.png', rot180_i)\n",
    "    save_tf_image(groundt_dir + 'satImage_' + str(j).zfill(3) + '.png', rot180_gt)\n",
    "    num_aug+=1\n",
    "\n",
    "    #rot270\n",
    "    rot270_i = tf.image.rot90(rot180_i)\n",
    "    rot270_gt = tf.image.rot90(rot180_gt)\n",
    "    save_tf_image(image_dir + 'satImage_' + str(j).zfill(3) + 'rot270.png', rot270_i)\n",
    "    save_tf_image(groundt_dir + 'satImage_' + str(j).zfill(3) + '.png', rot270_gt)\n",
    "    num_aug+=1\n",
    "\n",
    "    #vertical flip\n",
    "    save_tf_image(image_dir + 'satImage_' + str(j).zfill(3) + 'vertflip.png', tf.image.flip_left_right(img))\n",
    "    save_tf_image(groundt_dir + 'satImage_' + str(j).zfill(3) + '.png', tf.image.flip_left_right(groundt))\n",
    "    num_aug+=1\n",
    "\n",
    "\n",
    "    #horizontal flip\n",
    "    save_tf_image(image_dir + 'satImage_' + str(j).zfill(3) + 'horflip.png', tf.image.flip_up_down(img))\n",
    "    save_tf_image(groundt_dir + 'satImage_' + str(j).zfill(3) + '.png', tf.image.flip_up_down(groundt))\n",
    "    num_aug+=1\n",
    "\n",
    "    #45° flip\n",
    "    #save_tf_image(image_dir + 'satImage_' + str(num_aug).zfill(4) + '.png', tf.image.rot270(tf.image.flip_up_down(rot90_i)))\n",
    "    #save_tf_image(groundt_dir + 'satImage_' + str(num_aug).zfill(4) + '.png', tf.image.rot270(tf.image.flip_up_down(rot90_gt)))\n",
    "\n",
    "    #270° flip\n",
    "    #save_tf_image(image_dir + 'satImage_' + str(num_aug).zfill(4) + '.png', tf.image.rot270(tf.image.flip_up_down(rot270_i)))\n",
    "    #save_tf_image(groundt_dir + 'satImage_' + str(num_aug).zfill(4) + '.png', tf.image.rot270(tf.image.flip_up_down(rot270_gt)))\n",
    "\n",
    "    #add noise \n",
    "\n",
    "    #Centering\n",
    "\n"
   ]
  },
  {
   "cell_type": "code",
   "execution_count": null,
   "metadata": {},
   "outputs": [],
   "source": [
    "train_ds = tf.keras.preprocessing.image_dataset_from_directory(\n",
    "  data_dir,\n",
    "  validation_split=0.2,\n",
    "  subset=\"training\",\n",
    "  seed=123,\n",
    "  image_size=(img_height, img_width),\n",
    "  batch_size=batch_size)\n"
   ]
  },
  {
   "cell_type": "code",
   "execution_count": null,
   "metadata": {},
   "outputs": [],
   "source": [
    "\n",
    "\n",
    "groundt = groundt_list[i]\n",
    "print(rot90_gt)\n",
    "\n",
    "groundt = np.expand_dims(groundt, axis=2)\n",
    "\n",
    "rot90_gt = tf.image.rot90(groundt)\n",
    "print(rot90_gt)\n",
    "visualize(groundt, rot90_gt)\n",
    "\n"
   ]
  },
  {
   "cell_type": "code",
   "execution_count": 4,
   "metadata": {},
   "outputs": [
    {
     "output_type": "error",
     "ename": "NameError",
     "evalue": "name 'images_list' is not defined",
     "traceback": [
      "\u001b[0;31m---------------------------------------------------------------------------\u001b[0m",
      "\u001b[0;31mNameError\u001b[0m                                 Traceback (most recent call last)",
      "\u001b[0;32m<ipython-input-4-c746e22781ac>\u001b[0m in \u001b[0;36m<module>\u001b[0;34m\u001b[0m\n\u001b[0;32m----> 1\u001b[0;31m \u001b[0mimg\u001b[0m \u001b[0;34m=\u001b[0m \u001b[0mimages_list\u001b[0m\u001b[0;34m[\u001b[0m\u001b[0mi\u001b[0m\u001b[0;34m]\u001b[0m\u001b[0;34m\u001b[0m\u001b[0;34m\u001b[0m\u001b[0m\n\u001b[0m\u001b[1;32m      2\u001b[0m \u001b[0mrot90_i\u001b[0m \u001b[0;34m=\u001b[0m \u001b[0mtf\u001b[0m\u001b[0;34m.\u001b[0m\u001b[0mimage\u001b[0m\u001b[0;34m.\u001b[0m\u001b[0mrot90\u001b[0m\u001b[0;34m(\u001b[0m\u001b[0mimg\u001b[0m\u001b[0;34m)\u001b[0m\u001b[0;34m\u001b[0m\u001b[0;34m\u001b[0m\u001b[0m\n\u001b[1;32m      3\u001b[0m \u001b[0mvisualize\u001b[0m\u001b[0;34m(\u001b[0m\u001b[0mimg\u001b[0m\u001b[0;34m,\u001b[0m \u001b[0mrot90_i\u001b[0m\u001b[0;34m)\u001b[0m\u001b[0;34m\u001b[0m\u001b[0;34m\u001b[0m\u001b[0m\n\u001b[1;32m      4\u001b[0m \u001b[0mprint\u001b[0m\u001b[0;34m(\u001b[0m\u001b[0;34m'im size : '\u001b[0m\u001b[0;34m,\u001b[0m \u001b[0mnp\u001b[0m\u001b[0;34m.\u001b[0m\u001b[0mshape\u001b[0m\u001b[0;34m(\u001b[0m\u001b[0mrot90_i\u001b[0m\u001b[0;34m)\u001b[0m\u001b[0;34m)\u001b[0m\u001b[0;34m\u001b[0m\u001b[0;34m\u001b[0m\u001b[0m\n",
      "\u001b[0;31mNameError\u001b[0m: name 'images_list' is not defined"
     ]
    }
   ],
   "source": [
    "img = images_list[i]\n",
    "rot90_i = tf.image.rot90(img)\n",
    "visualize(img, rot90_i)\n",
    "print('im size : ', np.shape(rot90_i))\n"
   ]
  },
  {
   "cell_type": "code",
   "execution_count": null,
   "metadata": {
    "tags": []
   },
   "outputs": [],
   "source": [
    "data_dir = 'ressource_files/training/'\n",
    "train_data_filename = data_dir + 'images/'\n",
    "train_labels_filename = data_dir + 'groundtruth/'\n",
    "\n",
    "train_data = extract_data(train_data_filename, TRAINING_SIZE)\n",
    "train_labels = extract_labels(train_labels_filename, TRAINING_SIZE)\n",
    "\n"
   ]
  },
  {
   "cell_type": "code",
   "execution_count": null,
   "metadata": {},
   "outputs": [],
   "source": []
  }
 ]
}